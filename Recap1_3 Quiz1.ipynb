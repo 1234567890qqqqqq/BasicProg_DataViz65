{
  "nbformat": 4,
  "nbformat_minor": 0,
  "metadata": {
    "colab": {
      "name": "Recap 1-3 Quiz1.ipynb",
      "provenance": [],
      "include_colab_link": true
    },
    "kernelspec": {
      "name": "python3",
      "display_name": "Python 3"
    },
    "language_info": {
      "name": "python"
    }
  },
  "cells": [
    {
      "cell_type": "markdown",
      "metadata": {
        "id": "view-in-github",
        "colab_type": "text"
      },
      "source": [
        "<a href=\"https://colab.research.google.com/github/1234567890qqqqqq/BasicProg_DataViz65/blob/main/Recap_1_3_Quiz1.ipynb\" target=\"_parent\"><img src=\"https://colab.research.google.com/assets/colab-badge.svg\" alt=\"Open In Colab\"/></a>"
      ]
    },
    {
      "cell_type": "markdown",
      "source": [
        "Quiz 1 \n",
        "\n",
        "คำนวณเวลาเป็นความต่างของเวลาเป็นวินาทีของช่วงเวลาต่อไปนี้โดยใช้คำสั่ง split() ช่วย และ print ออกมาให้สวยงาม\n",
        "\n",
        "* 09:11:50 - 12:30:15\n",
        "* 13:41:07 - 20:00:18\n",
        "* 21:30:15 - 00:00:00\n",
        "* 00:00:00 - 23:59:59\n",
        "\n",
        "\n",
        "\n",
        "\n",
        "\n"
      ],
      "metadata": {
        "id": "FKKg2s03yfKC"
      }
    },
    {
      "cell_type": "code",
      "execution_count": 6,
      "metadata": {
        "id": "JHgL5URByL6e",
        "colab": {
          "base_uri": "https://localhost:8080/"
        },
        "outputId": "afc46ee1-bb47-4cc2-e715-ec7b673c42d2"
      },
      "outputs": [
        {
          "output_type": "stream",
          "name": "stdout",
          "text": [
            "ความต่างของเวลาเป็นวินาที ช่วง 09:11:50 ถึง 12:30:15 แปลงเป็นวินาที ได้ 11905 วินาที\n"
          ]
        }
      ],
      "source": [
        "#09:11:50 - 12:30:15\n",
        "a = (9*60*60)+(11*60)+50\n",
        "b = (12*60*60)+(30*60)+15\n",
        "print(f'ความต่างของเวลาเป็นวินาที ช่วง 09:11:50 ถึง 12:30:15 แปลงเป็นวินาที ได้ {b-a} วินาที') "
      ]
    },
    {
      "cell_type": "code",
      "source": [
        "#13:41:07 - 20:00:18\n",
        "c = (13*60*60)+(41*60)+7\n",
        "d = (20*60*60)+(0*60)+18\n",
        "print(f'ความต่างของเวลาเป็นวินาที ช่วง 13:41:07ถึง 20:00:18 แปลงเป็นวินาที ได้ {d-c} วินาที') "
      ],
      "metadata": {
        "id": "1R6NpfRG_pc3",
        "outputId": "63a973f9-b648-4238-ccba-92b32e7ef420",
        "colab": {
          "base_uri": "https://localhost:8080/"
        }
      },
      "execution_count": 8,
      "outputs": [
        {
          "output_type": "stream",
          "name": "stdout",
          "text": [
            "ความต่างของเวลาเป็นวินาที ช่วง 13:41:07ถึง 20:00:18 แปลงเป็นวินาที ได้ 22751 วินาที\n"
          ]
        }
      ]
    },
    {
      "cell_type": "code",
      "source": [
        "#21:30:15 - 00:00:00\n",
        "e = (21*60*60)+(30*60)+15\n",
        "f = (24*60*60)\n",
        "print(f'ความต่างของเวลาเป็นวินาที ช่วง 21:30:15 ถึง 00:00:00 แปลงเป็นวินาที ได้ {f-e} วินาที') "
      ],
      "metadata": {
        "id": "NMSKjZ8i_1CT",
        "outputId": "4a5c8e83-a9e5-447f-b84e-6a44179a2b58",
        "colab": {
          "base_uri": "https://localhost:8080/"
        }
      },
      "execution_count": 9,
      "outputs": [
        {
          "output_type": "stream",
          "name": "stdout",
          "text": [
            "ความต่างของเวลาเป็นวินาที ช่วง 21:30:15 ถึง 00:00:00 แปลงเป็นวินาที ได้ 8985 วินาที\n"
          ]
        }
      ]
    },
    {
      "cell_type": "code",
      "source": [
        "#00:00:00 - 23:59:59\n",
        "g = 0\n",
        "h = (23*60*60)+(59*60)+59\n",
        "print(f'ความต่างของเวลาเป็นวินาที ช่วง 00:00:00 ถึง 23:59:59 แปลงเป็นวินาที ได้ {h-g} วินาที') "
      ],
      "metadata": {
        "id": "JJeDv_K1ALvw",
        "outputId": "d3637158-b02a-4a0a-8c72-c051b1d8b0ec",
        "colab": {
          "base_uri": "https://localhost:8080/"
        }
      },
      "execution_count": 10,
      "outputs": [
        {
          "output_type": "stream",
          "name": "stdout",
          "text": [
            "ความต่างของเวลาเป็นวินาที ช่วง 00:00:00 ถึง 23:59:59 แปลงเป็นวินาที ได้ 86399 วินาที\n"
          ]
        }
      ]
    }
  ]
}
