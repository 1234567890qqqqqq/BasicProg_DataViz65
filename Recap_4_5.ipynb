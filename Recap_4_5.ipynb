{
  "nbformat": 4,
  "nbformat_minor": 0,
  "metadata": {
    "colab": {
      "name": "Recap 4-5.ipynb",
      "provenance": [],
      "include_colab_link": true
    },
    "kernelspec": {
      "name": "python3",
      "display_name": "Python 3"
    },
    "language_info": {
      "name": "python"
    }
  },
  "cells": [
    {
      "cell_type": "markdown",
      "metadata": {
        "id": "view-in-github",
        "colab_type": "text"
      },
      "source": [
        "<a href=\"https://colab.research.google.com/github/1234567890qqqqqq/BasicProg_DataViz65/blob/main/Recap_4_5.ipynb\" target=\"_parent\"><img src=\"https://colab.research.google.com/assets/colab-badge.svg\" alt=\"Open In Colab\"/></a>"
      ]
    },
    {
      "cell_type": "markdown",
      "source": [
        "## Matrix Slicing"
      ],
      "metadata": {
        "id": "MZ7ECiJ1DEVj"
      }
    },
    {
      "cell_type": "code",
      "source": [
        "import numpy"
      ],
      "metadata": {
        "id": "8f0tL68oDOTS"
      },
      "execution_count": null,
      "outputs": []
    },
    {
      "cell_type": "code",
      "execution_count": null,
      "metadata": {
        "colab": {
          "base_uri": "https://localhost:8080/"
        },
        "id": "ZQXbbZjiC4yl",
        "outputId": "30c09615-a024-4933-b895-7088a19d58e0"
      },
      "outputs": [
        {
          "output_type": "execute_result",
          "data": {
            "text/plain": [
              "array([[2, 4, 5],\n",
              "       [1, 2, 3],\n",
              "       [9, 8, 7],\n",
              "       [3, 6, 9]])"
            ]
          },
          "metadata": {},
          "execution_count": 3
        }
      ],
      "source": [
        "list_a = [[2,4,5],[1,2,3],[9,8,7],[3,6,9]]\n",
        "mat_a = numpy.array(list_a)\n",
        "mat_a"
      ]
    },
    {
      "cell_type": "code",
      "source": [
        "import numpy as np"
      ],
      "metadata": {
        "id": "NvwsaUf4EWTA"
      },
      "execution_count": null,
      "outputs": []
    },
    {
      "cell_type": "code",
      "source": [
        "list_b = [[-1,-1,2,4,5],[-2,-2,1,2,3],[-3,-3,9,8,7],[-4,-4,3,6,9]]\n",
        "mat_b = np.array(list_b)\n",
        "mat_b"
      ],
      "metadata": {
        "colab": {
          "base_uri": "https://localhost:8080/"
        },
        "id": "YCEZ0qJNEoAw",
        "outputId": "92757d2b-6f3e-4807-a095-e1f59aa9437a"
      },
      "execution_count": null,
      "outputs": [
        {
          "output_type": "execute_result",
          "data": {
            "text/plain": [
              "array([[-1, -1,  2,  4,  5],\n",
              "       [-2, -2,  1,  2,  3],\n",
              "       [-3, -3,  9,  8,  7],\n",
              "       [-4, -4,  3,  6,  9]])"
            ]
          },
          "metadata": {},
          "execution_count": 5
        }
      ]
    },
    {
      "cell_type": "markdown",
      "source": [
        "## Quiz2\n",
        "\n",
        "1. slice ค่าลบออกมาจาก ```mat_b```\n",
        "2. slice ```[1,2,3]``` จาก ```mat_a```\n",
        "3. slice ```[[1,3],[9,7],[3,9]]``` ออกมาจาก ```mat_b```"
      ],
      "metadata": {
        "id": "wtf67yt-FSc3"
      }
    },
    {
      "cell_type": "code",
      "source": [
        "mat_b[:4,:2]"
      ],
      "metadata": {
        "id": "tDjbqTFCExUT",
        "outputId": "a591bed7-d806-43ea-ea1c-36e4501bbf45",
        "colab": {
          "base_uri": "https://localhost:8080/"
        }
      },
      "execution_count": null,
      "outputs": [
        {
          "output_type": "execute_result",
          "data": {
            "text/plain": [
              "array([[-1, -1],\n",
              "       [-2, -2],\n",
              "       [-3, -3],\n",
              "       [-4, -4]])"
            ]
          },
          "metadata": {},
          "execution_count": 6
        }
      ]
    },
    {
      "cell_type": "code",
      "source": [
        "mat_a[1]"
      ],
      "metadata": {
        "id": "gm4k7tSsHchy",
        "outputId": "4fc85fcf-9034-407f-ef00-77affd0e7ae9",
        "colab": {
          "base_uri": "https://localhost:8080/"
        }
      },
      "execution_count": null,
      "outputs": [
        {
          "output_type": "execute_result",
          "data": {
            "text/plain": [
              "array([1, 2, 3])"
            ]
          },
          "metadata": {},
          "execution_count": 8
        }
      ]
    },
    {
      "cell_type": "code",
      "source": [
        "mat_b[1:4,2:5:2]"
      ],
      "metadata": {
        "id": "GV9CgPGIHsZo",
        "outputId": "66ca2a3d-fe0d-46c5-ee87-693f031e3ef0",
        "colab": {
          "base_uri": "https://localhost:8080/"
        }
      },
      "execution_count": null,
      "outputs": [
        {
          "output_type": "execute_result",
          "data": {
            "text/plain": [
              "array([[1, 3],\n",
              "       [9, 7],\n",
              "       [3, 9]])"
            ]
          },
          "metadata": {},
          "execution_count": 12
        }
      ]
    },
    {
      "cell_type": "markdown",
      "source": [
        "#Quiz3\n",
        "\n",
        "เขียน function แสดงความต่างของเวลาโดย input อยู่ในรูปแบบ 'XX:YY:ZZ - AA:BB:CC'\n",
        "\n",
        "และวนลูปแสดงผลของ input ต่อไปนี้\n",
        "\n",
        "* '09:11:50 - 12:30:15'\n",
        "* '13:41:07 - 20:00:18'\n",
        "* '00:00:00 - 23:59:59'\n",
        "* '18:04:11 - 00:00:00'\n",
        "* '21:30:00 - 03:05:15'\n",
        "\n",
        "ตัวอย่าง input '00:00:00-01:00:00'\n",
        "\n",
        "output ช่วงระยะเวลาระหว่าง 00:00:00 ถึง 01:00:00 มีเวลาทั้งหมด 3,600 วินาที"
      ],
      "metadata": {
        "id": "7_bzrmmZfvzE"
      }
    },
    {
      "cell_type": "code",
      "source": [
        "time = '09:11:50 - 12:30:15'\n",
        "time"
      ],
      "metadata": {
        "id": "vBeTHZkgf7pG",
        "outputId": "9bfd37c6-690f-480f-d52f-fc2035b75478",
        "colab": {
          "base_uri": "https://localhost:8080/",
          "height": 35
        }
      },
      "execution_count": 14,
      "outputs": [
        {
          "output_type": "execute_result",
          "data": {
            "text/plain": [
              "'09:11:50 - 12:30:15'"
            ],
            "application/vnd.google.colaboratory.intrinsic+json": {
              "type": "string"
            }
          },
          "metadata": {},
          "execution_count": 14
        }
      ]
    },
    {
      "cell_type": "code",
      "source": [
        "t = time"
      ],
      "metadata": {
        "id": "L2qsJLocSqgs"
      },
      "execution_count": 13,
      "outputs": []
    },
    {
      "cell_type": "code",
      "source": [
        "t"
      ],
      "metadata": {
        "id": "YA9V1_IGSvQk",
        "outputId": "325fec69-7a1f-4c98-a634-0a1c74ff5b88",
        "colab": {
          "base_uri": "https://localhost:8080/",
          "height": 35
        }
      },
      "execution_count": 15,
      "outputs": [
        {
          "output_type": "execute_result",
          "data": {
            "text/plain": [
              "'09:11:50 - 12:30:15'"
            ],
            "application/vnd.google.colaboratory.intrinsic+json": {
              "type": "string"
            }
          },
          "metadata": {},
          "execution_count": 15
        }
      ]
    },
    {
      "cell_type": "code",
      "source": [
        "input_split = t.split(' - ')\n",
        "input_split"
      ],
      "metadata": {
        "colab": {
          "base_uri": "https://localhost:8080/"
        },
        "id": "lEsQunyagLfV",
        "outputId": "56b61111-424d-4600-a383-5301a5894561"
      },
      "execution_count": 17,
      "outputs": [
        {
          "output_type": "execute_result",
          "data": {
            "text/plain": [
              "['09:11:50', '12:30:15']"
            ]
          },
          "metadata": {},
          "execution_count": 17
        }
      ]
    },
    {
      "cell_type": "code",
      "source": [
        "starttimeSP = input_split[0].split(':')\n",
        "endtimeSP = input_split[-1].split(':')\n",
        "print(starttimeSP,endtimeSP,sep='\\n')"
      ],
      "metadata": {
        "id": "pWMNt6x-gPd8",
        "outputId": "33c9882b-375b-4dc1-a079-d9e81ab88e4f",
        "colab": {
          "base_uri": "https://localhost:8080/"
        }
      },
      "execution_count": 18,
      "outputs": [
        {
          "output_type": "stream",
          "name": "stdout",
          "text": [
            "['09', '11', '50']\n",
            "['12', '30', '15']\n"
          ]
        }
      ]
    },
    {
      "cell_type": "code",
      "source": [
        "def calculate_time(time):\n",
        "    t = time\n",
        "    input_split = t.split('-')\n",
        "    starttimeSP = input_split[0].split(':')\n",
        "    endtimeSP = input_split[1].split(':')\n",
        "\n",
        "    starttime = 3600*int(starttimeSP[0])+60*int(starttimeSP[1])+int(starttimeSP[2])\n",
        "    endtime = 3600*int(endtimeSP[0])+60*int(endtimeSP[1])+int(endtimeSP[2])\n",
        "\n",
        "    if endtime > starttime :\n",
        "        print(f'ระยะเวลาระหว่าง {input_split[0]} และ {input_split[1]} ห่างกันเท่ากับ {endtime-starttime:,} วินาที')\n",
        "    else:\n",
        "        print(f'ระยะเวลาระหว่าง {input_split[0]} และ {input_split[1]} ห่างกันเท่ากับ {endtime+24*60*60 - starttime: ,} วินาที')"
      ],
      "metadata": {
        "id": "KTy8YGF2kbYl"
      },
      "execution_count": 19,
      "outputs": []
    },
    {
      "cell_type": "code",
      "source": [
        "for time in ['09:11:50 - 12:30:15','13:41:07 - 20:00:18','00:00:00 - 23:59:59','18:04:11 - 00:00:00','21:30:00 - 03:05:15']:\n",
        "    T = time\n",
        "    calculate_time(T)\n"
      ],
      "metadata": {
        "id": "YzThaLiPw14r",
        "outputId": "6c17d0f5-9a7c-4879-aa27-a5507fc11575",
        "colab": {
          "base_uri": "https://localhost:8080/"
        }
      },
      "execution_count": 22,
      "outputs": [
        {
          "output_type": "stream",
          "name": "stdout",
          "text": [
            "ระยะเวลาระหว่าง 09:11:50  และ  12:30:15 ห่างกันเท่ากับ 11,905 วินาที\n",
            "ระยะเวลาระหว่าง 13:41:07  และ  20:00:18 ห่างกันเท่ากับ 22,751 วินาที\n",
            "ระยะเวลาระหว่าง 00:00:00  และ  23:59:59 ห่างกันเท่ากับ 86,399 วินาที\n",
            "ระยะเวลาระหว่าง 18:04:11  และ  00:00:00 ห่างกันเท่ากับ  21,349 วินาที\n",
            "ระยะเวลาระหว่าง 21:30:00  และ  03:05:15 ห่างกันเท่ากับ  20,115 วินาที\n"
          ]
        }
      ]
    }
  ]
}