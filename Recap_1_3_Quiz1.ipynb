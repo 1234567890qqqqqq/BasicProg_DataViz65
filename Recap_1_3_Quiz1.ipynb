{
  "nbformat": 4,
  "nbformat_minor": 0,
  "metadata": {
    "colab": {
      "name": "Recap 1-3 Quiz1.ipynb",
      "provenance": [],
      "include_colab_link": true
    },
    "kernelspec": {
      "name": "python3",
      "display_name": "Python 3"
    },
    "language_info": {
      "name": "python"
    }
  },
  "cells": [
    {
      "cell_type": "markdown",
      "metadata": {
        "id": "view-in-github",
        "colab_type": "text"
      },
      "source": [
        "<a href=\"https://colab.research.google.com/github/1234567890qqqqqq/BasicProg_DataViz65/blob/main/Recap_1_3_Quiz1.ipynb\" target=\"_parent\"><img src=\"https://colab.research.google.com/assets/colab-badge.svg\" alt=\"Open In Colab\"/></a>"
      ]
    },
    {
      "cell_type": "markdown",
      "source": [
        "Quiz 1 \n",
        "\n",
        "คำนวณเวลาเป็นความต่างของเวลาเป็นวินาทีของช่วงเวลาต่อไปนี้โดยใช้คำสั่ง split() ช่วย และ print ออกมาให้สวยงาม\n",
        "\n",
        "* 09:11:50 - 12:30:15\n",
        "* 13:41:07 - 20:00:18\n",
        "* 21:30:15 - 00:00:00\n",
        "* 00:00:00 - 23:59:59\n",
        "\n",
        "\n",
        "\n",
        "\n",
        "\n"
      ],
      "metadata": {
        "id": "FKKg2s03yfKC"
      }
    },
    {
      "cell_type": "code",
      "source": [
        "A = '09:11:50'\n",
        "print(A)\n",
        "sp_A = A.split(':')\n",
        "print(sp_A)\n",
        "total_A = (int(sp_A[0])*60*60) + (int(sp_A[1])*60) + int(sp_A[2])\n",
        "print(f' เวลา {A} สามารถแปลงเป็นหน่วยวินาทีได้ {total_A:,} วินาที')\n",
        "B = '12:30:15'\n",
        "print(B)\n",
        "sp_B = B.split(':')\n",
        "print(sp_B)\n",
        "total_B = (int(sp_B[0])*60*60) + (int(sp_B[1])*60) + int(sp_B[2])\n",
        "print(f' เวลา {B} สามารถแปลงเป็นหน่วยวินาทีได้ {total_B:,} วินาที')\n",
        "\n",
        "print(f'ดังนั้น ความต่างของเวลาเป็นวินาที {A} ถึง {B} ได้ {total_B - total_A:,} วินาที')"
      ],
      "metadata": {
        "id": "fP6l59yjP4G5",
        "outputId": "584e0011-5cad-43de-aea6-ceb1f806bf71",
        "colab": {
          "base_uri": "https://localhost:8080/"
        }
      },
      "execution_count": null,
      "outputs": [
        {
          "output_type": "stream",
          "name": "stdout",
          "text": [
            "09:11:50\n",
            "['09', '11', '50']\n",
            " เวลา 09:11:50 สามารถแปลงเป็นหน่วยวินาทีได้ 33,110 วินาที\n",
            "12:30:15\n",
            "['12', '30', '15']\n",
            " เวลา 12:30:15 สามารถแปลงเป็นหน่วยวินาทีได้ 45,015 วินาที\n",
            "ดังนั้น ความต่างของเวลาเป็นวินาที 09:11:50 ถึง 12:30:15 ได้ 11,905 วินาที\n"
          ]
        }
      ]
    },
    {
      "cell_type": "code",
      "source": [
        "C = '13:41:07'\n",
        "print(C)\n",
        "sp_C = C.split(':')\n",
        "print(sp_C)\n",
        "total_C = (int(sp_C[0])*60*60) + (int(sp_C[1])*60) + int(sp_C[2])\n",
        "print(f' เวลา {C} สามารถแปลงเป็นหน่วยวินาทีได้ {total_C:,} วินาที')\n",
        "D = '20:00:18'\n",
        "print(D)\n",
        "sp_D = D.split(':')\n",
        "print(sp_D)\n",
        "total_D = (int(sp_D[0])*60*60) + (int(sp_D[1])*60) + int(sp_D[2])\n",
        "print(f' เวลา {D} สามารถแปลงเป็นหน่วยวินาทีได้ {total_D:,} วินาที')\n",
        "\n",
        "print(f'ดังนั้น ความต่างของเวลาเป็นวินาที {C} ถึง {D} ได้ {total_D - total_C:,} วินาที')"
      ],
      "metadata": {
        "id": "Uu8zXTvIQNMe",
        "outputId": "df9c2ea0-1085-497c-8356-adbd76bef11e",
        "colab": {
          "base_uri": "https://localhost:8080/"
        }
      },
      "execution_count": null,
      "outputs": [
        {
          "output_type": "stream",
          "name": "stdout",
          "text": [
            "13:41:07\n",
            "['13', '41', '07']\n",
            " เวลา 13:41:07 สามารถแปลงเป็นหน่วยวินาทีได้ 49,267 วินาที\n",
            "20:00:18\n",
            "['20', '00', '18']\n",
            " เวลา 20:00:18 สามารถแปลงเป็นหน่วยวินาทีได้ 72,018 วินาที\n",
            "ดังนั้น ความต่างของเวลาเป็นวินาที 13:41:07 ถึง 20:00:18 ได้ 22,751 วินาที\n"
          ]
        }
      ]
    },
    {
      "cell_type": "code",
      "source": [
        "E = '21:30:15'\n",
        "print(E)\n",
        "sp_E = E.split(':')\n",
        "print(sp_E)\n",
        "total_E = (int(sp_E[0])*60*60) + (int(sp_E[1])*60) + int(sp_E[2])\n",
        "print(f' เวลา {E} สามารถแปลงเป็นหน่วยวินาทีได้ {total_E:,} วินาที')\n",
        "f = '00:00:00'\n",
        "F = '24:00:00'\n",
        "print(f)\n",
        "sp_F = F.split(':')\n",
        "print(sp_F)\n",
        "total_F = (int(sp_F[0])*60*60) + (int(sp_F[1])*60) + int(sp_F[2])\n",
        "print(f' เวลา {f} สามารถแปลงเป็นหน่วยวินาทีได้ {total_F:,} วินาที')\n",
        "\n",
        "print(f'ดังนั้น ความต่างของเวลาเป็นวินาที {E} ถึง {F} ได้ {total_F - total_E:,} วินาที')"
      ],
      "metadata": {
        "id": "sC2ynwH1RXg2",
        "outputId": "7642d607-8c6b-49f1-9393-d511e3392ac2",
        "colab": {
          "base_uri": "https://localhost:8080/"
        }
      },
      "execution_count": 5,
      "outputs": [
        {
          "output_type": "stream",
          "name": "stdout",
          "text": [
            "21:30:15\n",
            "['21', '30', '15']\n",
            " เวลา 21:30:15 สามารถแปลงเป็นหน่วยวินาทีได้ 77,415 วินาที\n",
            "00:00:00\n",
            "['24', '00', '00']\n",
            " เวลา 00:00:00 สามารถแปลงเป็นหน่วยวินาทีได้ 86,400 วินาที\n",
            "ดังนั้น ความต่างของเวลาเป็นวินาที 21:30:15 ถึง 24:00:00 ได้ 8,985 วินาที\n"
          ]
        }
      ]
    },
    {
      "cell_type": "code",
      "source": [
        "G = '00:00:00'\n",
        "print(G)\n",
        "sp_G = G.split(':')\n",
        "print(sp_G)\n",
        "total_G = (int(sp_G[0])*60*60) + (int(sp_G[1])*60) + int(sp_G[2])\n",
        "print(f' เวลา {G} สามารถแปลงเป็นหน่วยวินาทีได้ {total_G:,} วินาที')\n",
        "H = '23:59:59'\n",
        "print(H)\n",
        "sp_H = H.split(':')\n",
        "print(sp_H)\n",
        "total_H = (int(sp_H[0])*60*60) + (int(sp_H[1])*60) + int(sp_H[2])\n",
        "print(f' เวลา {H} สามารถแปลงเป็นหน่วยวินาทีได้ {total_H:,} วินาที')\n",
        "\n",
        "print(f'ดังนั้น ความต่างของเวลาเป็นวินาที {G} ถึง {H} ได้ {total_H - total_G:,} วินาที')"
      ],
      "metadata": {
        "id": "jO3VdiubRYjb",
        "outputId": "79e2f8f7-132b-4646-c570-e321e8671fb7",
        "colab": {
          "base_uri": "https://localhost:8080/"
        }
      },
      "execution_count": 4,
      "outputs": [
        {
          "output_type": "stream",
          "name": "stdout",
          "text": [
            "00:00:00\n",
            "['00', '00', '00']\n",
            " เวลา 00:00:00 สามารถแปลงเป็นหน่วยวินาทีได้ 0 วินาที\n",
            "23:59:59\n",
            "['23', '59', '59']\n",
            " เวลา 23:59:59 สามารถแปลงเป็นหน่วยวินาทีได้ 86,399 วินาที\n",
            "ดังนั้น ความต่างของเวลาเป็นวินาที 00:00:00 ถึง 23:59:59 ได้ 86,399 วินาที\n"
          ]
        }
      ]
    }
  ]
}