{
  "nbformat": 4,
  "nbformat_minor": 0,
  "metadata": {
    "colab": {
      "name": "Untitled1.ipynb",
      "provenance": [],
      "authorship_tag": "ABX9TyMGdjF0OqTNjKPkBFFJb5DZ",
      "include_colab_link": true
    },
    "kernelspec": {
      "name": "python3",
      "display_name": "Python 3"
    },
    "language_info": {
      "name": "python"
    }
  },
  "cells": [
    {
      "cell_type": "markdown",
      "metadata": {
        "id": "view-in-github",
        "colab_type": "text"
      },
      "source": [
        "<a href=\"https://colab.research.google.com/github/1234567890qqqqqq/BasicProg_DataViz65/blob/main/function.ipynb\" target=\"_parent\"><img src=\"https://colab.research.google.com/assets/colab-badge.svg\" alt=\"Open In Colab\"/></a>"
      ]
    },
    {
      "cell_type": "markdown",
      "source": [
        "#HW1\n",
        "\n",
        "เขียน function แสดงความต่างของเวลา (Quiz1) โดย input อยู่ในรูปแบบ '09:11:50 - 12:30:15'\n",
        "\n",
        "และทดลองรัน\n",
        "\n",
        "* '09:11:50 - 12:30:15'\n",
        "* '13:41:07 - 20:00:18'\n",
        "* '00:00:00 - 23:59:59'"
      ],
      "metadata": {
        "id": "MEHXNpQSY5Dl"
      }
    },
    {
      "cell_type": "code",
      "source": [
        "# '09:11:50 - 12:30:15'\n",
        "def time_1(a1,b1,c1,a2,b2,c2):\n",
        "    answer = ((a2*3600) + (b2*60) + c2) - ((a1*60*60) + (b1*60) + c1)\n",
        "    return answer\n",
        "print(f'เวลา 09:11:50 - 12:30:15 คำนวณได้เท่ากับ {time_1(9,11,50,12,30,15)} วินาที')"
      ],
      "metadata": {
        "colab": {
          "base_uri": "https://localhost:8080/"
        },
        "id": "ZwmH_u4q55iN",
        "outputId": "b99bedd0-09bf-4b06-ac67-7e5f5cc4e447"
      },
      "execution_count": null,
      "outputs": [
        {
          "output_type": "stream",
          "name": "stdout",
          "text": [
            "เวลา 09:11:50 - 12:30:15 คำนวณได้เท่ากับ 11905 วินาที\n"
          ]
        }
      ]
    },
    {
      "cell_type": "code",
      "source": [
        "# '13:41:07 - 20:00:18'\n",
        "def time_2(d1,e1,f1,d2,e2,f2):\n",
        "    answer = ((d2*3600) + (e2*60) + f2) - ((d1*60*60) + (e1*60) + f1)\n",
        "    return answer\n",
        "print(f'เวลา 13:41:07 - 20:00:18 คำนวณได้เท่ากับ {time_2(13,41,7,20,0,18)} วินาที')"
      ],
      "metadata": {
        "colab": {
          "base_uri": "https://localhost:8080/"
        },
        "id": "ZGdpEn0xDQS6",
        "outputId": "e5cfb1d6-91d8-4130-a340-2131d5b4ce83"
      },
      "execution_count": null,
      "outputs": [
        {
          "output_type": "stream",
          "name": "stdout",
          "text": [
            "เวลา 13:41:07 - 20:00:18 คำนวณได้เท่ากับ 22751 วินาที\n"
          ]
        }
      ]
    },
    {
      "cell_type": "code",
      "source": [
        "# '00:00:00 - 23:59:59'\n",
        "def time_3(g1,h1,i1,g2,h2,i2):\n",
        "    answer= ((g2*3600) + (h2*60) + i2) - ((g1*60*60) + (h1*60) + i1)\n",
        "    return answer\n",
        "print(f'เวลา 00:00:00 - 23:59:59 คำนวณได้เท่ากับ {time_3(0,0,0,23,59,59)} วินาที')"
      ],
      "metadata": {
        "colab": {
          "base_uri": "https://localhost:8080/"
        },
        "id": "leAUnBfSDTQI",
        "outputId": "95a3bc66-daed-472e-d739-e302645602c6"
      },
      "execution_count": null,
      "outputs": [
        {
          "output_type": "stream",
          "name": "stdout",
          "text": [
            "เวลา 00:00:00 - 23:59:59 คำนวณได้เท่ากับ 86399 วินาที\n"
          ]
        }
      ]
    },
    {
      "cell_type": "markdown",
      "source": [
        "##เฉลย"
      ],
      "metadata": {
        "id": "Yjh5u_XQRlUk"
      }
    },
    {
      "cell_type": "code",
      "source": [
        "input = '09:11:50 - 12:30:15'\n",
        "input"
      ],
      "metadata": {
        "id": "wiv2TC1uRk5l",
        "outputId": "8f28aab8-5e8a-45a4-fa9e-f76841b5d03b",
        "colab": {
          "base_uri": "https://localhost:8080/",
          "height": 35
        }
      },
      "execution_count": 1,
      "outputs": [
        {
          "output_type": "execute_result",
          "data": {
            "text/plain": [
              "'09:11:50 - 12:30:15'"
            ],
            "application/vnd.google.colaboratory.intrinsic+json": {
              "type": "string"
            }
          },
          "metadata": {},
          "execution_count": 1
        }
      ]
    },
    {
      "cell_type": "code",
      "source": [
        "input_split = input.split(' - ')\n",
        "input_split"
      ],
      "metadata": {
        "id": "AzTlUyjtR8u0",
        "outputId": "9b873896-1f29-4fa3-c05b-9d472fed7b21",
        "colab": {
          "base_uri": "https://localhost:8080/"
        }
      },
      "execution_count": 2,
      "outputs": [
        {
          "output_type": "execute_result",
          "data": {
            "text/plain": [
              "['09:11:50', '12:30:15']"
            ]
          },
          "metadata": {},
          "execution_count": 2
        }
      ]
    },
    {
      "cell_type": "code",
      "source": [
        "starttimeSP = input_split[0].split(':')\n",
        "endtimeSP = input_split[-1].split(':')\n",
        "print(starttimeSP,endtimeSP,sep='\\n')"
      ],
      "metadata": {
        "id": "NNk8p5SMSRB6",
        "outputId": "766e8264-e796-462a-9350-f6244888063d",
        "colab": {
          "base_uri": "https://localhost:8080/"
        }
      },
      "execution_count": 3,
      "outputs": [
        {
          "output_type": "stream",
          "name": "stdout",
          "text": [
            "['09', '11', '50']\n",
            "['12', '30', '15']\n"
          ]
        }
      ]
    },
    {
      "cell_type": "code",
      "source": [
        "def calculate_time(input):\n",
        "    input_split = input.split('-')\n",
        "    starttimeSP = input_split[0].split(':')\n",
        "    endtimeSP = input_split[-1].split(':')\n",
        "\n",
        "    starttime = 3600*int(starttimeSP[0])+60*int(starttimeSP[1])+int(starttimeSP[2])\n",
        "    endtime = 3600*int(endtimeSP[0])+60*int(endtimeSP[1])+int(endtimeSP[2])\n",
        "\n",
        "    print(f'ระยะเวลาระหว่าง {input_split[0]} และ {input_split[1]} ห่างกันเท่ากัน {endtime-starttime:,} วินาที')"
      ],
      "metadata": {
        "id": "dY3ScsurTAsq"
      },
      "execution_count": 6,
      "outputs": []
    },
    {
      "cell_type": "code",
      "source": [
        "calculate_time('09:11:50 - 12:30:15')"
      ],
      "metadata": {
        "id": "s0vH9NTRVy_s",
        "outputId": "bdcf954c-5e70-4fd4-b5b8-547e8473212a",
        "colab": {
          "base_uri": "https://localhost:8080/"
        }
      },
      "execution_count": 7,
      "outputs": [
        {
          "output_type": "stream",
          "name": "stdout",
          "text": [
            "ระยะเวลาระหว่าง 09:11:50  และ  12:30:15 ห่างกันเท่ากัน 11,905 วินาที\n"
          ]
        }
      ]
    },
    {
      "cell_type": "code",
      "source": [
        "calculate_time('13:41:07 - 20:00:18')"
      ],
      "metadata": {
        "id": "XeJRYCEsWDNd",
        "outputId": "bd8fa042-b9eb-4329-ce1f-3d6df2ee09e4",
        "colab": {
          "base_uri": "https://localhost:8080/"
        }
      },
      "execution_count": 8,
      "outputs": [
        {
          "output_type": "stream",
          "name": "stdout",
          "text": [
            "ระยะเวลาระหว่าง 13:41:07  และ  20:00:18 ห่างกันเท่ากัน 22,751 วินาที\n"
          ]
        }
      ]
    },
    {
      "cell_type": "code",
      "source": [
        "calculate_time('00:00:00 - 23:59:59')"
      ],
      "metadata": {
        "id": "HvgxXsBWWDWa",
        "outputId": "58c67da0-42b3-4667-a82b-a7435d8e9f46",
        "colab": {
          "base_uri": "https://localhost:8080/"
        }
      },
      "execution_count": 9,
      "outputs": [
        {
          "output_type": "stream",
          "name": "stdout",
          "text": [
            "ระยะเวลาระหว่าง 00:00:00  และ  23:59:59 ห่างกันเท่ากัน 86,399 วินาที\n"
          ]
        }
      ]
    }
  ]
}