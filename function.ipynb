{
  "nbformat": 4,
  "nbformat_minor": 0,
  "metadata": {
    "colab": {
      "name": "Untitled1.ipynb",
      "provenance": [],
      "authorship_tag": "ABX9TyMm5EbUDGaOCpkUF+/bs3xN",
      "include_colab_link": true
    },
    "kernelspec": {
      "name": "python3",
      "display_name": "Python 3"
    },
    "language_info": {
      "name": "python"
    }
  },
  "cells": [
    {
      "cell_type": "markdown",
      "metadata": {
        "id": "view-in-github",
        "colab_type": "text"
      },
      "source": [
        "<a href=\"https://colab.research.google.com/github/1234567890qqqqqq/BasicProg_DataViz65/blob/main/function.ipynb\" target=\"_parent\"><img src=\"https://colab.research.google.com/assets/colab-badge.svg\" alt=\"Open In Colab\"/></a>"
      ]
    },
    {
      "cell_type": "markdown",
      "source": [
        "#HW1\n",
        "\n",
        "เขียน function แสดงความต่างของเวลา (Quiz1) โดย input อยู่ในรูปแบบ '09:11:50 - 12:30:15'\n",
        "\n",
        "และทดลองรัน\n",
        "\n",
        "* '09:11:50 - 12:30:15'\n",
        "* '13:41:07 - 20:00:18'\n",
        "* '00:00:00 - 23:59:59'"
      ],
      "metadata": {
        "id": "MEHXNpQSY5Dl"
      }
    },
    {
      "cell_type": "code",
      "source": [
        "# '09:11:50 - 12:30:15'\n",
        "def time_1(a1,b1,c1,a2,b2,c2):\n",
        "    answer = ((a2*3600) + (b2*60) + c2) - ((a1*60*60) + (b1*60) + c1)\n",
        "    return answer\n",
        "print(f'เวลา 09:11:50 - 12:30:15 คำนวณได้เท่ากับ {time_1(9,11,50,12,30,15)} วินาที')"
      ],
      "metadata": {
        "colab": {
          "base_uri": "https://localhost:8080/"
        },
        "id": "ZwmH_u4q55iN",
        "outputId": "b99bedd0-09bf-4b06-ac67-7e5f5cc4e447"
      },
      "execution_count": null,
      "outputs": [
        {
          "output_type": "stream",
          "name": "stdout",
          "text": [
            "เวลา 09:11:50 - 12:30:15 คำนวณได้เท่ากับ 11905 วินาที\n"
          ]
        }
      ]
    },
    {
      "cell_type": "code",
      "source": [
        "# '13:41:07 - 20:00:18'\n",
        "def time_2(d1,e1,f1,d2,e2,f2):\n",
        "    answer = ((d2*3600) + (e2*60) + f2) - ((d1*60*60) + (e1*60) + f1)\n",
        "    return answer\n",
        "print(f'เวลา 13:41:07 - 20:00:18 คำนวณได้เท่ากับ {time_2(13,41,7,20,0,18)} วินาที')"
      ],
      "metadata": {
        "colab": {
          "base_uri": "https://localhost:8080/"
        },
        "id": "ZGdpEn0xDQS6",
        "outputId": "e5cfb1d6-91d8-4130-a340-2131d5b4ce83"
      },
      "execution_count": null,
      "outputs": [
        {
          "output_type": "stream",
          "name": "stdout",
          "text": [
            "เวลา 13:41:07 - 20:00:18 คำนวณได้เท่ากับ 22751 วินาที\n"
          ]
        }
      ]
    },
    {
      "cell_type": "code",
      "source": [
        "# '00:00:00 - 23:59:59'\n",
        "def time_3(g1,h1,i1,g2,h2,i2):\n",
        "    answer= ((g2*3600) + (h2*60) + i2) - ((g1*60*60) + (h1*60) + i1)\n",
        "    return answer\n",
        "print(f'เวลา 00:00:00 - 23:59:59 คำนวณได้เท่ากับ {time_3(0,0,0,23,59,59)} วินาที')"
      ],
      "metadata": {
        "colab": {
          "base_uri": "https://localhost:8080/"
        },
        "id": "leAUnBfSDTQI",
        "outputId": "95a3bc66-daed-472e-d739-e302645602c6"
      },
      "execution_count": 69,
      "outputs": [
        {
          "output_type": "stream",
          "name": "stdout",
          "text": [
            "เวลา 00:00:00 - 23:59:59 คำนวณได้เท่ากับ 86399 วินาที\n"
          ]
        }
      ]
    }
  ]
}