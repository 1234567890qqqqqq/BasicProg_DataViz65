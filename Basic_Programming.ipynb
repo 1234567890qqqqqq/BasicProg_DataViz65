{
  "nbformat": 4,
  "nbformat_minor": 0,
  "metadata": {
    "colab": {
      "name": "Basic Programming.ipynb",
      "provenance": [],
      "include_colab_link": true
    },
    "kernelspec": {
      "name": "python3",
      "display_name": "Python 3"
    },
    "language_info": {
      "name": "python"
    }
  },
  "cells": [
    {
      "cell_type": "markdown",
      "metadata": {
        "id": "view-in-github",
        "colab_type": "text"
      },
      "source": [
        "<a href=\"https://colab.research.google.com/github/1234567890qqqqqq/BasicProg_DataViz65/blob/main/Basic_Programming.ipynb\" target=\"_parent\"><img src=\"https://colab.research.google.com/assets/colab-badge.svg\" alt=\"Open In Colab\"/></a>"
      ]
    },
    {
      "cell_type": "markdown",
      "source": [
        "# Function ($f(x)$ = $y$)\n",
        "\n"
      ],
      "metadata": {
        "id": "d0Fc4pn5Rppq"
      }
    },
    {
      "cell_type": "markdown",
      "source": [
        "```python\n",
        "def function_name( input_x ) :\n",
        "    # do something with input_x to get output_y\n",
        "    return output_y\n",
        "```\n"
      ],
      "metadata": {
        "id": "dpSEvgxNSvuP"
      }
    },
    {
      "cell_type": "markdown",
      "source": [
        "$f_1(x) = x^2 + 75$"
      ],
      "metadata": {
        "id": "rNDca9VTUzwD"
      }
    },
    {
      "cell_type": "code",
      "source": [
        "def function_f1(x):\n",
        "    a = x**2     # ** คือยกกำลัง\n",
        "    y = a +75\n",
        "    return y\n",
        "\n",
        "print('done!') #ไม่เยื้องแสดงว่าไม่อยู่ในฟังก์ชัน จะไม่แสดงผล"
      ],
      "metadata": {
        "colab": {
          "base_uri": "https://localhost:8080/"
        },
        "id": "addFN3UZSXN4",
        "outputId": "0abb4b35-d3d2-4a78-c1c0-fb18209d4c92"
      },
      "execution_count": 1,
      "outputs": [
        {
          "output_type": "stream",
          "name": "stdout",
          "text": [
            "done!\n"
          ]
        }
      ]
    },
    {
      "cell_type": "code",
      "source": [
        "function_f1(3)"
      ],
      "metadata": {
        "colab": {
          "base_uri": "https://localhost:8080/"
        },
        "id": "u3IZIdFSVaWN",
        "outputId": "eeeafc45-8156-4cfe-f8bc-3130dc14d1d4"
      },
      "execution_count": 2,
      "outputs": [
        {
          "output_type": "execute_result",
          "data": {
            "text/plain": [
              "84"
            ]
          },
          "metadata": {},
          "execution_count": 2
        }
      ]
    },
    {
      "cell_type": "markdown",
      "source": [
        "function มีส่วนสำคัญทั้งหมวด 4 ส่วน\n",
        "\n",
        "1. บอก python ว่าเราจะเขียนฟังก์ชันก์ ชื่ออะไร `def function_name ()` : (ขาดไม่ได้)\n",
        "2. กำหนดตัวแปรที่จะเป็น input _input_ (ขาดได้)\n",
        "3. ส่วนประมวลผล do_something with _Input_ to get _Output_ (ขาดไม่ได้)\n",
        "4. ส่วน output `return` _Output_ (ขาดได้)"
      ],
      "metadata": {
        "id": "g5WYo4EBAMNd"
      }
    },
    {
      "cell_type": "markdown",
      "source": [
        "### ตัวอย่าง Function ที่มีส่วนประกอบครบ"
      ],
      "metadata": {
        "id": "SpGxdjEUuxnf"
      }
    },
    {
      "cell_type": "code",
      "source": [
        "def function_f1(x):\n",
        "    a = x**2     # ** คือยกกำลัง\n",
        "    y = a +75\n",
        "    return y"
      ],
      "metadata": {
        "id": "6TEhXy7BC3Tr"
      },
      "execution_count": 3,
      "outputs": []
    },
    {
      "cell_type": "markdown",
      "source": [
        "### ตัวอย่าง Function ที่ไม่มี Input"
      ],
      "metadata": {
        "id": "qzcDRhb0vB-0"
      }
    },
    {
      "cell_type": "code",
      "source": [
        "def pi_v():\n",
        "    y = 3.14159265359\n",
        "    return y"
      ],
      "metadata": {
        "id": "rcY1GokfvIhb"
      },
      "execution_count": 4,
      "outputs": []
    },
    {
      "cell_type": "code",
      "source": [
        "piv = pi_v()\n",
        "circle_area_r2 = piv*(2**2)\n",
        "print(circle_area_r2)"
      ],
      "metadata": {
        "id": "Ub85XrMrvq0Q",
        "outputId": "691c8647-f491-4f55-fe82-403edf522763",
        "colab": {
          "base_uri": "https://localhost:8080/"
        }
      },
      "execution_count": 5,
      "outputs": [
        {
          "output_type": "stream",
          "name": "stdout",
          "text": [
            "12.56637061436\n"
          ]
        }
      ]
    },
    {
      "cell_type": "markdown",
      "source": [
        "### Function ไม่มี Process ไม่ได้"
      ],
      "metadata": {
        "id": "ReI8Hx10wjsI"
      }
    },
    {
      "cell_type": "code",
      "source": [
        "def function_a(): "
      ],
      "metadata": {
        "id": "9AoLVgO1wcbs"
      },
      "execution_count": null,
      "outputs": []
    },
    {
      "cell_type": "markdown",
      "source": [
        "### ตัวอย่าง Function ที่ไม่มี Output"
      ],
      "metadata": {
        "id": "EQlRFi-Swugb"
      }
    },
    {
      "cell_type": "code",
      "source": [
        "def print_name_id(name,id):\n",
        "    print(f'ชื่อ {name} รหัสประจำตัว {id}')"
      ],
      "metadata": {
        "id": "2UrWXt0qw5KN"
      },
      "execution_count": 7,
      "outputs": []
    },
    {
      "cell_type": "code",
      "source": [
        "print_name_id('ธนภรณ์','633020551-0')"
      ],
      "metadata": {
        "id": "xIlIlwMixdR9",
        "outputId": "afe4ef35-e267-4086-a71d-da2546e0353a",
        "colab": {
          "base_uri": "https://localhost:8080/"
        }
      },
      "execution_count": 8,
      "outputs": [
        {
          "output_type": "stream",
          "name": "stdout",
          "text": [
            "ชื่อ ธนภรณ์ รหัสประจำตัว 633020551-0\n"
          ]
        }
      ]
    },
    {
      "cell_type": "code",
      "source": [
        "a = print_name_id('ธนภรณ์','633020551-0')"
      ],
      "metadata": {
        "id": "8dEcFzRMy764",
        "outputId": "0ccded7e-228f-487b-ae54-d1401c3937d3",
        "colab": {
          "base_uri": "https://localhost:8080/"
        }
      },
      "execution_count": 9,
      "outputs": [
        {
          "output_type": "stream",
          "name": "stdout",
          "text": [
            "ชื่อ ธนภรณ์ รหัสประจำตัว 633020551-0\n"
          ]
        }
      ]
    },
    {
      "cell_type": "code",
      "source": [
        "a"
      ],
      "metadata": {
        "id": "a3F2aadty_JV"
      },
      "execution_count": 10,
      "outputs": []
    },
    {
      "cell_type": "markdown",
      "source": [
        "ตัวอย่าง Function `print` https://www.programiz.com/python-programming/methods/built-in/print"
      ],
      "metadata": {
        "id": "8-fef6ZS0XC7"
      }
    },
    {
      "cell_type": "code",
      "source": [
        "print('ธนภรณ์',end = ' -> ')\n",
        "print('633020551-0')"
      ],
      "metadata": {
        "id": "OoWOh5GN05Xo",
        "outputId": "39f4da6d-31a4-4bd6-c030-ad21e953192c",
        "colab": {
          "base_uri": "https://localhost:8080/"
        }
      },
      "execution_count": 11,
      "outputs": [
        {
          "output_type": "stream",
          "name": "stdout",
          "text": [
            "ธนภรณ์ -> 633020551-0\n"
          ]
        }
      ]
    },
    {
      "cell_type": "code",
      "source": [
        "print('สวัสดี',end = '  ')\n",
        "print('hello')"
      ],
      "metadata": {
        "id": "zb8L_IlMReFo",
        "outputId": "afca98d4-b144-4b1a-fb97-7cf54f0f99ee",
        "colab": {
          "base_uri": "https://localhost:8080/"
        }
      },
      "execution_count": 12,
      "outputs": [
        {
          "output_type": "stream",
          "name": "stdout",
          "text": [
            "สวัสดี  hello\n"
          ]
        }
      ]
    },
    {
      "cell_type": "code",
      "source": [
        "print('ธนภรณ์','633020551-0')"
      ],
      "metadata": {
        "id": "dh-eKlN51jUd",
        "outputId": "889fb8e5-50ea-4f4b-b178-2410e7b69bf7",
        "colab": {
          "base_uri": "https://localhost:8080/"
        }
      },
      "execution_count": 13,
      "outputs": [
        {
          "output_type": "stream",
          "name": "stdout",
          "text": [
            "ธนภรณ์ 633020551-0\n"
          ]
        }
      ]
    },
    {
      "cell_type": "code",
      "source": [
        "print('ธนภรณ์','633020551-0',sep=' & ') #sep ไม่ใส่ก็ได้"
      ],
      "metadata": {
        "id": "gIe6xmrV1ntb",
        "outputId": "bead1c1b-f3ea-4baa-ec24-0156b22abacd",
        "colab": {
          "base_uri": "https://localhost:8080/"
        }
      },
      "execution_count": 14,
      "outputs": [
        {
          "output_type": "stream",
          "name": "stdout",
          "text": [
            "ธนภรณ์ & 633020551-0\n"
          ]
        }
      ]
    },
    {
      "cell_type": "markdown",
      "source": [
        "### Input ของ Function แบ่งเป็น 2 ชนิด (จำเป็นต้องใส่ หรือ ไม่จำเป็นต้องใส่)"
      ],
      "metadata": {
        "id": "CYFcni9z2d7e"
      }
    },
    {
      "cell_type": "markdown",
      "source": [
        "ตัวอย่าง Function `print_grade()` มี Input 3 ตัว จำเป็นต้องใส่ 2 ตัว คือ name กับ id และไม่จำเป็นต้องใส่ 1 ตัว คือเกรด ซึ่งมีค่า default เป็น F"
      ],
      "metadata": {
        "id": "n6rS5Shn3m_9"
      }
    },
    {
      "cell_type": "code",
      "source": [
        "def print_grade(name,id,grade=' A '):\n",
        "    print(f'รหัสประจำตัว {id} ชื่อ {name}')\n",
        "    print(f'ได้เกรด {grade}')"
      ],
      "metadata": {
        "id": "LlC0DzUw2tVy"
      },
      "execution_count": 15,
      "outputs": []
    },
    {
      "cell_type": "code",
      "source": [
        "print_grade('นางสาวธนภรณ์ บุญหลักคำ','633020551-0') #ใส่ชื่อ Input ตามนิยามการเขียนฟังก์ชัน"
      ],
      "metadata": {
        "id": "IwmJWIQp3ccm",
        "outputId": "b3fcf66d-e585-455f-8b49-7e4010d2c62b",
        "colab": {
          "base_uri": "https://localhost:8080/"
        }
      },
      "execution_count": 17,
      "outputs": [
        {
          "output_type": "stream",
          "name": "stdout",
          "text": [
            "รหัสประจำตัว 633020551-0 ชื่อ นางสาวธนภรณ์ บุญหลักคำ\n",
            "ได้เกรด  A \n"
          ]
        }
      ]
    },
    {
      "cell_type": "code",
      "source": [
        "print_grade(id='633020551-0',name='นางสาวธนภรณ์ บุญหลักคำ',grade = 'A++') #ใส่ชื่อ Input ไปเลย"
      ],
      "metadata": {
        "id": "eCC5Pf_K46aI",
        "outputId": "6b337e8e-021b-41ba-c7d0-252612db349f",
        "colab": {
          "base_uri": "https://localhost:8080/"
        }
      },
      "execution_count": 18,
      "outputs": [
        {
          "output_type": "stream",
          "name": "stdout",
          "text": [
            "รหัสประจำตัว 633020551-0 ชื่อ นางสาวธนภรณ์ บุญหลักคำ\n",
            "ได้เกรด A++\n"
          ]
        }
      ]
    },
    {
      "cell_type": "markdown",
      "source": [
        "##Function Print"
      ],
      "metadata": {
        "id": "7du1hWFIYH17"
      }
    },
    {
      "cell_type": "code",
      "source": [
        "print()"
      ],
      "metadata": {
        "id": "8A7LEKG3YOqy",
        "outputId": "fd158227-cd91-44f6-b8c8-0c05c05d9924",
        "colab": {
          "base_uri": "https://localhost:8080/"
        }
      },
      "execution_count": 19,
      "outputs": [
        {
          "output_type": "stream",
          "name": "stdout",
          "text": [
            "\n"
          ]
        }
      ]
    },
    {
      "cell_type": "code",
      "source": [
        "print('สวัสดี')"
      ],
      "metadata": {
        "id": "oFMsmHoKYUUZ",
        "outputId": "2bc119c2-4111-401f-97b0-de59b903293f",
        "colab": {
          "base_uri": "https://localhost:8080/"
        }
      },
      "execution_count": 20,
      "outputs": [
        {
          "output_type": "stream",
          "name": "stdout",
          "text": [
            "สวัสดี\n"
          ]
        }
      ]
    },
    {
      "cell_type": "code",
      "source": [
        "print('hello')\n",
        "print('สวัสดี')"
      ],
      "metadata": {
        "id": "LjxbAHzZYXqR",
        "outputId": "8418fd06-8fad-4a1a-b85f-c0141c2dbf30",
        "colab": {
          "base_uri": "https://localhost:8080/"
        }
      },
      "execution_count": 21,
      "outputs": [
        {
          "output_type": "stream",
          "name": "stdout",
          "text": [
            "hello\n",
            "สวัสดี\n"
          ]
        }
      ]
    },
    {
      "cell_type": "code",
      "source": [
        "print('hello',end=' ')\n",
        "print('สวัสดี')"
      ],
      "metadata": {
        "id": "K0LMtkInYUR8",
        "outputId": "e3f929f9-f387-4c50-deca-1fcb18932fd7",
        "colab": {
          "base_uri": "https://localhost:8080/"
        }
      },
      "execution_count": 22,
      "outputs": [
        {
          "output_type": "stream",
          "name": "stdout",
          "text": [
            "hello สวัสดี\n"
          ]
        }
      ]
    },
    {
      "cell_type": "code",
      "source": [
        "print('hello','สวัสดี')"
      ],
      "metadata": {
        "id": "2dPPwmPOYUOx",
        "outputId": "ed925d6b-384d-4263-b7dc-231c74fadb82",
        "colab": {
          "base_uri": "https://localhost:8080/"
        }
      },
      "execution_count": 23,
      "outputs": [
        {
          "output_type": "stream",
          "name": "stdout",
          "text": [
            "hello สวัสดี\n"
          ]
        }
      ]
    },
    {
      "cell_type": "code",
      "source": [
        "print('hello','สวัสดี',sep='\\n')"
      ],
      "metadata": {
        "id": "knViPGmYYULj",
        "outputId": "55534edb-b38c-4157-f419-0b5003a37e41",
        "colab": {
          "base_uri": "https://localhost:8080/"
        }
      },
      "execution_count": 24,
      "outputs": [
        {
          "output_type": "stream",
          "name": "stdout",
          "text": [
            "hello\n",
            "สวัสดี\n"
          ]
        }
      ]
    },
    {
      "cell_type": "code",
      "source": [
        "print('hello',end='')\n",
        "print('สวัสดี')"
      ],
      "metadata": {
        "id": "Tma1VcqiYT-i",
        "outputId": "9d56d006-27cb-4a78-d14c-7e2aa98a2f50",
        "colab": {
          "base_uri": "https://localhost:8080/"
        }
      },
      "execution_count": 25,
      "outputs": [
        {
          "output_type": "stream",
          "name": "stdout",
          "text": [
            "helloสวัสดี\n"
          ]
        }
      ]
    },
    {
      "cell_type": "markdown",
      "source": [
        "# Looping"
      ],
      "metadata": {
        "id": "JKjy1xjGR9iT"
      }
    },
    {
      "cell_type": "markdown",
      "source": [
        "# Conditional Statment (if)"
      ],
      "metadata": {
        "id": "1GSzdd8WSAW3"
      }
    }
  ]
}